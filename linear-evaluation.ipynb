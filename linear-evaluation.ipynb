{
 "cells": [
  {
   "cell_type": "code",
   "execution_count": 1,
   "id": "54829274-3dec-483e-a0d5-af61588d744f",
   "metadata": {},
   "outputs": [],
   "source": [
    "import numpy as np\n",
    "import pandas as pd\n",
    "import matplotlib.pyplot as plt\n",
    "import pickle\n",
    "import PIL\n",
    "import os\n",
    "import torch\n",
    "import torch.optim as optim\n",
    "import torch.nn as nn\n",
    "import torch.nn.functional as F\n",
    "from torch.autograd import Variable\n",
    "from torch.utils.data import Dataset, DataLoader\n",
    "from torchvision import datasets, models, transforms\n",
    "from tqdm import tqdm\n",
    "from torchvision.datasets import DatasetFolder, ImageFolder\n",
    "from shuffle_batchnorm import ShuffleBatchNorm\n",
    "from torch.nn.parallel import DistributedDataParallel as DDP\n",
    "import torch.distributed as dist\n",
    "from model import MOCO, plot\n",
    "\n"
   ]
  },
  {
   "cell_type": "code",
   "execution_count": 2,
   "id": "45e53a48-7b01-49d7-b9b0-8ed17f5192ee",
   "metadata": {},
   "outputs": [
    {
     "name": "stdout",
     "output_type": "stream",
     "text": [
      "device: cuda\n"
     ]
    }
   ],
   "source": [
    "\n",
    "device = torch.device('cuda' if torch.cuda.is_available() else 'cpu')\n",
    "print(f\"device: {device}\")"
   ]
  },
  {
   "cell_type": "code",
   "execution_count": 3,
   "id": "9055914e-6751-4f55-a329-4740eb5e9b03",
   "metadata": {},
   "outputs": [],
   "source": [
    "train_root = \"./data/imagenette2/train\"\n",
    "val_root = \"./data/imagenette2/val\""
   ]
  },
  {
   "cell_type": "code",
   "execution_count": 4,
   "id": "2928428d-1d0d-44c2-9e27-fe73c9c356fb",
   "metadata": {},
   "outputs": [
    {
     "name": "stdout",
     "output_type": "stream",
     "text": [
      "Thu Jun 17 22:49:28 2021       \n",
      "+-----------------------------------------------------------------------------+\n",
      "| NVIDIA-SMI 460.80       Driver Version: 460.80       CUDA Version: 11.2     |\n",
      "|-------------------------------+----------------------+----------------------+\n",
      "| GPU  Name        Persistence-M| Bus-Id        Disp.A | Volatile Uncorr. ECC |\n",
      "| Fan  Temp  Perf  Pwr:Usage/Cap|         Memory-Usage | GPU-Util  Compute M. |\n",
      "|                               |                      |               MIG M. |\n",
      "|===============================+======================+======================|\n",
      "|   0  GeForce RTX 208...  Off  | 00000000:04:00.0 Off |                  N/A |\n",
      "| 42%   49C    P8    29W / 250W |      3MiB / 11019MiB |      0%      Default |\n",
      "|                               |                      |                  N/A |\n",
      "+-------------------------------+----------------------+----------------------+\n",
      "                                                                               \n",
      "+-----------------------------------------------------------------------------+\n",
      "| Processes:                                                                  |\n",
      "|  GPU   GI   CI        PID   Type   Process name                  GPU Memory |\n",
      "|        ID   ID                                                   Usage      |\n",
      "|=============================================================================|\n",
      "|  No running processes found                                                 |\n",
      "+-----------------------------------------------------------------------------+\n"
     ]
    }
   ],
   "source": [
    "!nvidia-smi"
   ]
  },
  {
   "cell_type": "code",
   "execution_count": 5,
   "id": "79eb00ed-4900-48cf-9fbd-d9a30e35d078",
   "metadata": {},
   "outputs": [
    {
     "data": {
      "text/plain": [
       "<All keys matched successfully>"
      ]
     },
     "execution_count": 5,
     "metadata": {},
     "output_type": "execute_result"
    }
   ],
   "source": [
    "\n",
    "feature_dim = 128\n",
    "t = 0.2\n",
    "m = 0.999\n",
    "checkpoint = torch.load(\"MOCOv2.pth\")\n",
    "model = MOCO(t, m, feature_dim).to(device)\n",
    "model.load_state_dict(checkpoint['model_state_dict'])\n"
   ]
  },
  {
   "cell_type": "code",
   "execution_count": 6,
   "id": "12caaa4c-1ca2-49cc-86ea-20516f48fbc1",
   "metadata": {},
   "outputs": [],
   "source": [
    "\n",
    "train_eval_transform = transforms.Compose([\n",
    "            transforms.RandomResizedCrop(224),\n",
    "            transforms.RandomHorizontalFlip(),\n",
    "            transforms.ToTensor(),\n",
    "            transforms.Normalize(mean=[0.485, 0.456, 0.406],\n",
    "                                     std=[0.229, 0.224, 0.225])\n",
    "\t])\n",
    "test_eval_transform = transforms.Compose([\n",
    "            transforms.Resize((224, 224)),\n",
    "#             transforms.CenterCrop(224),\n",
    "            transforms.ToTensor(),\n",
    "            transforms.Normalize(mean=[0.485, 0.456, 0.406],\n",
    "                                     std=[0.229, 0.224, 0.225])\n",
    "\t])\n",
    "\n"
   ]
  },
  {
   "cell_type": "code",
   "execution_count": 7,
   "id": "c182a5d2-7506-4a47-8ee2-5e9f65d75c17",
   "metadata": {},
   "outputs": [],
   "source": [
    "\n",
    "for param in model.parameters():\n",
    "    param.requires_grad = False"
   ]
  },
  {
   "cell_type": "code",
   "execution_count": 8,
   "id": "9d6f174d-75da-4bc7-be44-4541e4382476",
   "metadata": {},
   "outputs": [],
   "source": [
    "\n",
    "model.f_q.fc = nn.Linear(2048, 10).to(device)\n",
    "model.f_q.fc.requires_grad = True\n"
   ]
  },
  {
   "cell_type": "code",
   "execution_count": 9,
   "id": "44ee76f3-3e66-4962-aa16-837fe0404db7",
   "metadata": {},
   "outputs": [],
   "source": [
    "BATCH_SIZE = 100\n",
    "train_data = ImageFolder(root=train_root, transform=train_eval_transform)\n",
    "val_data = ImageFolder(root=val_root, transform=test_eval_transform)\n",
    "train_loader = DataLoader(train_data, shuffle=True, batch_size= BATCH_SIZE,num_workers = 4, pin_memory=True)\n",
    "val_loader = DataLoader(val_data, shuffle=False, batch_size= BATCH_SIZE, num_workers = 4, pin_memory=True)\n",
    "lr = 0.001\n",
    "optimizer = torch.optim.Adam(model.f_q.fc.parameters(), lr=lr)\n",
    "criterion = nn.CrossEntropyLoss()\n",
    "\n",
    "EPOCHS = 20\n",
    "res_dict = {\"train_loss_list\":[],\"test_loss_list\":[],\"train_acc_list\":[],\"test_acc_list\":[]}\n"
   ]
  },
  {
   "cell_type": "code",
   "execution_count": 10,
   "id": "25b020af-748a-4c16-aa92-e8d9554863d6",
   "metadata": {},
   "outputs": [
    {
     "name": "stderr",
     "output_type": "stream",
     "text": [
      "  0%|          | 0/20 [00:00<?, ?it/s]"
     ]
    },
    {
     "name": "stdout",
     "output_type": "stream",
     "text": [
      "START LINEAR EVALUATION \n",
      "\n",
      "\n",
      " train loss: 0.0170 train accuracy:0.8201 \n"
     ]
    },
    {
     "name": "stderr",
     "output_type": "stream",
     "text": [
      "  5%|▌         | 1/20 [01:36<30:28, 96.24s/it]"
     ]
    },
    {
     "name": "stdout",
     "output_type": "stream",
     "text": [
      "test loss: 0.0205 test accuracy:0.4683 \n",
      "\n",
      " train loss: 0.0159 train accuracy:0.8946 \n"
     ]
    },
    {
     "name": "stderr",
     "output_type": "stream",
     "text": [
      " 10%|█         | 2/20 [03:10<28:31, 95.07s/it]"
     ]
    },
    {
     "name": "stdout",
     "output_type": "stream",
     "text": [
      "test loss: 0.0203 test accuracy:0.4820 \n",
      "\n",
      " train loss: 0.0157 train accuracy:0.9065 \n"
     ]
    },
    {
     "name": "stderr",
     "output_type": "stream",
     "text": [
      " 15%|█▌        | 3/20 [04:43<26:41, 94.19s/it]"
     ]
    },
    {
     "name": "stdout",
     "output_type": "stream",
     "text": [
      "test loss: 0.0203 test accuracy:0.4856 \n",
      "\n",
      " train loss: 0.0156 train accuracy:0.9117 \n"
     ]
    },
    {
     "name": "stderr",
     "output_type": "stream",
     "text": [
      " 20%|██        | 4/20 [06:17<25:05, 94.12s/it]"
     ]
    },
    {
     "name": "stdout",
     "output_type": "stream",
     "text": [
      "test loss: 0.0202 test accuracy:0.4907 \n",
      "\n",
      " train loss: 0.0156 train accuracy:0.9176 \n"
     ]
    },
    {
     "name": "stderr",
     "output_type": "stream",
     "text": [
      " 25%|██▌       | 5/20 [07:50<23:26, 93.78s/it]"
     ]
    },
    {
     "name": "stdout",
     "output_type": "stream",
     "text": [
      "test loss: 0.0202 test accuracy:0.4917 \n",
      "\n",
      " train loss: 0.0155 train accuracy:0.9197 \n"
     ]
    },
    {
     "name": "stderr",
     "output_type": "stream",
     "text": [
      " 30%|███       | 6/20 [09:22<21:44, 93.15s/it]"
     ]
    },
    {
     "name": "stdout",
     "output_type": "stream",
     "text": [
      "test loss: 0.0202 test accuracy:0.4948 \n",
      "\n",
      " train loss: 0.0155 train accuracy:0.9177 \n"
     ]
    },
    {
     "name": "stderr",
     "output_type": "stream",
     "text": [
      " 35%|███▌      | 7/20 [10:55<20:08, 92.94s/it]"
     ]
    },
    {
     "name": "stdout",
     "output_type": "stream",
     "text": [
      "test loss: 0.0202 test accuracy:0.4966 \n",
      "\n",
      " train loss: 0.0155 train accuracy:0.9226 \n"
     ]
    },
    {
     "name": "stderr",
     "output_type": "stream",
     "text": [
      " 40%|████      | 8/20 [12:28<18:35, 92.95s/it]"
     ]
    },
    {
     "name": "stdout",
     "output_type": "stream",
     "text": [
      "test loss: 0.0202 test accuracy:0.4922 \n",
      "\n",
      " train loss: 0.0155 train accuracy:0.9199 \n"
     ]
    },
    {
     "name": "stderr",
     "output_type": "stream",
     "text": [
      " 45%|████▌     | 9/20 [14:00<17:00, 92.76s/it]"
     ]
    },
    {
     "name": "stdout",
     "output_type": "stream",
     "text": [
      "test loss: 0.0202 test accuracy:0.4927 \n",
      "\n",
      " train loss: 0.0155 train accuracy:0.9206 \n"
     ]
    },
    {
     "name": "stderr",
     "output_type": "stream",
     "text": [
      " 50%|█████     | 10/20 [15:33<15:27, 92.73s/it]"
     ]
    },
    {
     "name": "stdout",
     "output_type": "stream",
     "text": [
      "test loss: 0.0201 test accuracy:0.4945 \n",
      "\n",
      " train loss: 0.0155 train accuracy:0.9260 \n"
     ]
    },
    {
     "name": "stderr",
     "output_type": "stream",
     "text": [
      " 55%|█████▌    | 11/20 [17:06<13:56, 92.96s/it]"
     ]
    },
    {
     "name": "stdout",
     "output_type": "stream",
     "text": [
      "test loss: 0.0201 test accuracy:0.4930 \n",
      "\n",
      " train loss: 0.0154 train accuracy:0.9251 \n"
     ]
    },
    {
     "name": "stderr",
     "output_type": "stream",
     "text": [
      " 60%|██████    | 12/20 [18:39<12:24, 93.05s/it]"
     ]
    },
    {
     "name": "stdout",
     "output_type": "stream",
     "text": [
      "test loss: 0.0201 test accuracy:0.4973 \n",
      "\n",
      " train loss: 0.0154 train accuracy:0.9233 \n"
     ]
    },
    {
     "name": "stderr",
     "output_type": "stream",
     "text": [
      " 65%|██████▌   | 13/20 [20:12<10:50, 92.87s/it]"
     ]
    },
    {
     "name": "stdout",
     "output_type": "stream",
     "text": [
      "test loss: 0.0201 test accuracy:0.5014 \n",
      "\n",
      " train loss: 0.0154 train accuracy:0.9286 \n"
     ]
    },
    {
     "name": "stderr",
     "output_type": "stream",
     "text": [
      " 70%|███████   | 14/20 [21:44<09:16, 92.76s/it]"
     ]
    },
    {
     "name": "stdout",
     "output_type": "stream",
     "text": [
      "test loss: 0.0201 test accuracy:0.4996 \n",
      "\n",
      " train loss: 0.0154 train accuracy:0.9280 \n"
     ]
    },
    {
     "name": "stderr",
     "output_type": "stream",
     "text": [
      " 75%|███████▌  | 15/20 [23:17<07:43, 92.72s/it]"
     ]
    },
    {
     "name": "stdout",
     "output_type": "stream",
     "text": [
      "test loss: 0.0201 test accuracy:0.4989 \n",
      "\n",
      " train loss: 0.0154 train accuracy:0.9281 \n"
     ]
    },
    {
     "name": "stderr",
     "output_type": "stream",
     "text": [
      " 80%|████████  | 16/20 [24:50<06:11, 92.80s/it]"
     ]
    },
    {
     "name": "stdout",
     "output_type": "stream",
     "text": [
      "test loss: 0.0201 test accuracy:0.5029 \n",
      "\n",
      " train loss: 0.0154 train accuracy:0.9278 \n"
     ]
    },
    {
     "name": "stderr",
     "output_type": "stream",
     "text": [
      " 85%|████████▌ | 17/20 [26:23<04:38, 92.96s/it]"
     ]
    },
    {
     "name": "stdout",
     "output_type": "stream",
     "text": [
      "test loss: 0.0201 test accuracy:0.5019 \n",
      "\n",
      " train loss: 0.0154 train accuracy:0.9276 \n"
     ]
    },
    {
     "name": "stderr",
     "output_type": "stream",
     "text": [
      " 90%|█████████ | 18/20 [27:57<03:06, 93.29s/it]"
     ]
    },
    {
     "name": "stdout",
     "output_type": "stream",
     "text": [
      "test loss: 0.0201 test accuracy:0.4963 \n",
      "\n",
      " train loss: 0.0154 train accuracy:0.9322 \n"
     ]
    },
    {
     "name": "stderr",
     "output_type": "stream",
     "text": [
      " 95%|█████████▌| 19/20 [29:31<01:33, 93.22s/it]"
     ]
    },
    {
     "name": "stdout",
     "output_type": "stream",
     "text": [
      "test loss: 0.0201 test accuracy:0.4981 \n",
      "\n",
      " train loss: 0.0154 train accuracy:0.9282 \n"
     ]
    },
    {
     "name": "stderr",
     "output_type": "stream",
     "text": [
      "100%|██████████| 20/20 [31:04<00:00, 93.20s/it]"
     ]
    },
    {
     "name": "stdout",
     "output_type": "stream",
     "text": [
      "test loss: 0.0201 test accuracy:0.4953 \n"
     ]
    },
    {
     "name": "stderr",
     "output_type": "stream",
     "text": [
      "\n"
     ]
    },
    {
     "data": {
      "text/plain": [
       "<Figure size 432x288 with 0 Axes>"
      ]
     },
     "metadata": {},
     "output_type": "display_data"
    }
   ],
   "source": [
    "\n",
    "print(\"START LINEAR EVALUATION \\n\")\n",
    "for epoch in tqdm(range(EPOCHS)):\n",
    "    correct = total = total_loss = 0\n",
    "    for i, (images, labels) in enumerate(train_loader):\n",
    "        labels = labels.to(device)\n",
    "        scores = model.f_q(images.to(device))\n",
    "        logits = F.normalize(scores, dim=1)\n",
    "        predictions = torch.argmax(logits, dim = 1)\n",
    "        correct += torch.sum(predictions == labels).item()\n",
    "        total += labels.shape[0]\n",
    "        loss = criterion(logits, labels)\n",
    "        total_loss += loss.item()\n",
    "        optimizer.zero_grad()\n",
    "        loss.backward()\n",
    "        optimizer.step()\n",
    "    res_dict[\"train_loss_list\"].append(total_loss/total)\n",
    "    res_dict[\"train_acc_list\"].append(correct/total)\n",
    "    print(f\"\\n train loss: {total_loss/total:.4f} train accuracy:{correct/total:.4f} \")\n",
    "    with torch.no_grad():\n",
    "        correct = total = total_loss = 0\n",
    "        for i, (images, labels) in enumerate(val_loader):\n",
    "            labels = labels.to(device)\n",
    "            scores = model.f_q(images.to(device))\n",
    "            logits = F.normalize(scores, dim=1)\n",
    "            predictions = torch.argmax(logits, dim = 1)\n",
    "            correct += torch.sum(predictions == labels).item()\n",
    "            total += labels.shape[0]\n",
    "            loss = criterion(logits, labels)\n",
    "            total_loss += loss.item() \n",
    "        res_dict[\"test_loss_list\"].append(total_loss/total)\n",
    "        res_dict[\"test_acc_list\"].append(correct/total)\n",
    "\n",
    "\n",
    "    plot(res_dict, eval=True)\n",
    "    print(f\"test loss: {total_loss/total:.4f} test accuracy:{correct/total:.4f} \")"
   ]
  },
  {
   "cell_type": "code",
   "execution_count": null,
   "id": "d003ff39-f8b6-4a9b-a906-8cb39a7a672e",
   "metadata": {},
   "outputs": [],
   "source": [
    "# from torchvision.datasets.utils import download_url\n",
    "# import os\n",
    "# import tarfile\n",
    "# import hashlib\n",
    "\n",
    "# dataset_url = 'https://s3.amazonaws.com/fast-ai-imageclas/imagenette2.tgz'\n",
    "# dataset_filename = dataset_url.split('/')[-1]\n",
    "# dataset_foldername = dataset_filename.split('.')[0]\n",
    "# data_path = './data'\n",
    "# dataset_filepath = os.path.join(data_path,dataset_filename)\n",
    "# dataset_folderpath = os.path.join(data_path,dataset_foldername)\n",
    "\n",
    "# os.makedirs(data_path, exist_ok=True)\n",
    "\n",
    "# download = False\n",
    "# if not os.path.exists(dataset_filepath):\n",
    "#     download = True\n",
    "# else:\n",
    "#     md5_hash = hashlib.md5()\n",
    "\n",
    "\n",
    "#     file = open(dataset_filepath, \"rb\")\n",
    "\n",
    "#     content = file.read()\n",
    "\n",
    "#     md5_hash.update(content)\n",
    "\n",
    "\n",
    "#     digest = md5_hash.hexdigest()\n",
    "#     if digest != 'fe2fc210e6bb7c5664d602c3cd71e612':\n",
    "#         download = True\n",
    "# if download:\n",
    "#     download_url(dataset_url, data_path)\n",
    "\n",
    "# with tarfile.open(dataset_filepath, 'r:gz') as tar:\n",
    "#     tar.extractall(path=data_path)"
   ]
  },
  {
   "cell_type": "code",
   "execution_count": null,
   "id": "7059caee-ac90-40e6-b6ba-52fd37195767",
   "metadata": {},
   "outputs": [],
   "source": []
  },
  {
   "cell_type": "code",
   "execution_count": null,
   "id": "b9d623f0-3c25-4df4-a057-ec6a67f7f090",
   "metadata": {},
   "outputs": [],
   "source": []
  }
 ],
 "metadata": {
  "kernelspec": {
   "display_name": "Python 3",
   "language": "python",
   "name": "python3"
  },
  "language_info": {
   "codemirror_mode": {
    "name": "ipython",
    "version": 3
   },
   "file_extension": ".py",
   "mimetype": "text/x-python",
   "name": "python",
   "nbconvert_exporter": "python",
   "pygments_lexer": "ipython3",
   "version": "3.8.6"
  }
 },
 "nbformat": 4,
 "nbformat_minor": 5
}
